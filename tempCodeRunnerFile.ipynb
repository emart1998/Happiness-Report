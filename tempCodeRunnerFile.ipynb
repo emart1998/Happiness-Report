import plotly
import plotly.express as px
from ydata_profiling import ProfileReport
from autoviz.AutoViz_Class import AutoViz_Class
import folium as fo
from folium import plugins